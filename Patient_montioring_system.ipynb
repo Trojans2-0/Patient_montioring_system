{
 "cells": [
  {
   "cell_type": "code",
   "execution_count": 21,
   "metadata": {},
   "outputs": [],
   "source": [
    "import torch\n",
    "import clip\n",
    "from torch.utils.data import Dataset, DataLoader\n",
    "from torchvision.transforms import Compose, Resize, CenterCrop, ToTensor, Normalize\n",
    "from PIL import Image\n",
    "import os\n",
    "import json"
   ]
  },
  {
   "cell_type": "code",
   "execution_count": 2,
   "metadata": {},
   "outputs": [],
   "source": [
    "import cv2\n",
    "import torch\n",
    "import clip\n",
    "from PIL import Image\n",
    "\n",
    "device = \"cuda\" if torch.cuda.is_available() else \"cpu\"\n",
    "model, preprocess = clip.load(\"ViT-B/32\", device=device)\n"
   ]
  },
  {
   "cell_type": "code",
   "execution_count": 26,
   "metadata": {},
   "outputs": [
    {
     "name": "stdout",
     "output_type": "stream",
     "text": [
      "Current Working Directory: d:\\Projects\\Visual AI\n"
     ]
    }
   ],
   "source": [
    "import os\n",
    "print(\"Current Working Directory:\", os.getcwd())\n"
   ]
  },
  {
   "cell_type": "code",
   "execution_count": 19,
   "metadata": {},
   "outputs": [],
   "source": [
    "class CustomDataset(Dataset):\n",
    "    def __init__(self, image_dir, annotation_file, preprocess):\n",
    "        \"\"\"\n",
    "        Args:\n",
    "            image_dir (str): Path to the directory containing images.\n",
    "            annotation_file (str): Path to the JSON file with image-caption mappings.\n",
    "            preprocess (callable): Preprocessing function for images.\n",
    "        \"\"\"\n",
    "        self.image_dir = image_dir\n",
    "        self.annotations = json.load(open(annotation_file, 'r'))\n",
    "        self.preprocess = preprocess\n",
    "\n",
    "    def __len__(self):\n",
    "        return len(self.annotations['images'])\n",
    "\n",
    "    def __getitem__(self, idx):\n",
    "        img_info = self.annotations['images'][idx]\n",
    "        img_path = os.path.join(self.image_dir, img_info['file_name'])\n",
    "        caption = img_info['caption']\n",
    "\n",
    "        # Load and preprocess the image\n",
    "        image = self.preprocess(Image.open(img_path).convert(\"RGB\"))\n",
    "\n",
    "        # Tokenize the caption using CLIP's tokenizer\n",
    "        text = clip.tokenize([caption])[0]\n",
    "\n",
    "        return image, text"
   ]
  },
  {
   "cell_type": "code",
   "execution_count": 40,
   "metadata": {},
   "outputs": [],
   "source": [
    "image_dir = \"d:/Projects/Visual AI/Train/images\"\n",
    "if not os.path.exists(image_dir):\n",
    "    print(f\"File not found: {image_dir}\")\n",
    "\n",
    "annotation_file = \"d:/Projects/Visual AI/Train/captions.json\" "
   ]
  },
  {
   "cell_type": "code",
   "execution_count": 41,
   "metadata": {},
   "outputs": [],
   "source": [
    "dataset = CustomDataset(image_dir=image_dir, annotation_file=annotation_file, preprocess=preprocess)\n",
    "dataloader = DataLoader(dataset, batch_size=2, shuffle=True)"
   ]
  },
  {
   "cell_type": "code",
   "execution_count": 42,
   "metadata": {},
   "outputs": [
    {
     "name": "stdout",
     "output_type": "stream",
     "text": [
      "Image batch shape: torch.Size([2, 3, 224, 224])\n",
      "Text batch shape: torch.Size([2, 77])\n"
     ]
    }
   ],
   "source": [
    "for images, texts in dataloader:\n",
    "    print(\"Image batch shape:\", images.shape)\n",
    "    print(\"Text batch shape:\", texts.shape)\n",
    "    break  # Just to show one batch"
   ]
  },
  {
   "cell_type": "code",
   "execution_count": 43,
   "metadata": {},
   "outputs": [],
   "source": [
    "optimizer = torch.optim.Adam(model.parameters(), lr=1e-5)\n",
    "loss_fn = torch.nn.CrossEntropyLoss()"
   ]
  },
  {
   "cell_type": "code",
   "execution_count": 46,
   "metadata": {},
   "outputs": [
    {
     "name": "stdout",
     "output_type": "stream",
     "text": [
      "Epoch [1/10], Loss: 1.3367\n",
      "Epoch [2/10], Loss: 0.7306\n",
      "Epoch [3/10], Loss: 0.9484\n",
      "Epoch [4/10], Loss: 0.6948\n",
      "Epoch [5/10], Loss: 0.6948\n",
      "Epoch [6/10], Loss: 0.6936\n",
      "Epoch [7/10], Loss: 0.6998\n",
      "Epoch [8/10], Loss: 0.6942\n",
      "Epoch [9/10], Loss: 0.6957\n",
      "Epoch [10/10], Loss: 0.6954\n"
     ]
    }
   ],
   "source": [
    "num_epochs = 10\n",
    "for epoch in range(num_epochs):\n",
    "    model.train()\n",
    "    total_loss = 0\n",
    "\n",
    "    for images, texts in dataloader:\n",
    "        images, texts = images.to(device), texts.to(device)\n",
    "\n",
    "        # Forward pass\n",
    "        logits_per_image, logits_per_text = model(images, texts)\n",
    "        ground_truth = torch.arange(len(images), dtype=torch.long, device=device)\n",
    "        \n",
    "        # Compute loss\n",
    "        loss = (loss_fn(logits_per_image, ground_truth) + loss_fn(logits_per_text, ground_truth)) / 2\n",
    "\n",
    "        # Backward pass and optimization\n",
    "        optimizer.zero_grad()\n",
    "        loss.backward()\n",
    "        optimizer.step()\n",
    "\n",
    "        total_loss += loss.item()\n",
    "\n",
    "    print(f\"Epoch [{epoch+1}/{num_epochs}], Loss: {total_loss/len(dataloader):.4f}\")\n",
    "\n",
    "# Save the fine-tuned model\n",
    "torch.save(model.state_dict(), \"fine_tuned_clip_vit_b32.pth\")"
   ]
  },
  {
   "cell_type": "code",
   "execution_count": 45,
   "metadata": {},
   "outputs": [],
   "source": [
    "model.load_state_dict(torch.load(\"fine_tuned_clip_vit_b32.pth\"))\n",
    "model.eval()\n",
    "\n",
    "text_prompts = [\"a person hitting\", \"a person standing\"]\n",
    "text_tokens = clip.tokenize(text_prompts).to(device)\n",
    "\n",
    "# Start webcam capture\n",
    "cap = cv2.VideoCapture(0)\n",
    "\n",
    "while True:\n",
    "    ret, frame = cap.read()\n",
    "    if not ret:\n",
    "        break\n",
    "\n",
    "    # Preprocess the frame for CLIP model input\n",
    "    pil_image = Image.fromarray(cv2.cvtColor(frame, cv2.COLOR_BGR2RGB))\n",
    "    image_input = preprocess(pil_image).unsqueeze(0).to(device)\n",
    "\n",
    "    with torch.no_grad():\n",
    "        # Encode image and text features\n",
    "        image_features = model.encode_image(image_input)\n",
    "        text_features = model.encode_text(text_tokens)\n",
    "\n",
    "        # Compute similarity scores and probabilities\n",
    "        logits_per_image = (image_features @ text_features.T).softmax(dim=-1)\n",
    "    \n",
    "    probs = logits_per_image.cpu().numpy()[0]\n",
    "\n",
    "    # Display predictions on the video feed\n",
    "    for i, prompt in enumerate(text_prompts):\n",
    "        cv2.putText(frame, f\"{prompt}: {probs[i]:.2f}\", (10, 30 + i * 30), \n",
    "                    cv2.FONT_HERSHEY_SIMPLEX, 1, (255, 255, 255), 2)\n",
    "    \n",
    "    cv2.imshow(\"CLIP Webcam\", frame)\n",
    "    \n",
    "    if cv2.waitKey(1) & 0xFF == ord('q'):\n",
    "        break\n",
    "\n",
    "cap.release()\n",
    "cv2.destroyAllWindows()\n"
   ]
  }
 ],
 "metadata": {
  "kernelspec": {
   "display_name": "tensorflow",
   "language": "python",
   "name": "python3"
  },
  "language_info": {
   "codemirror_mode": {
    "name": "ipython",
    "version": 3
   },
   "file_extension": ".py",
   "mimetype": "text/x-python",
   "name": "python",
   "nbconvert_exporter": "python",
   "pygments_lexer": "ipython3",
   "version": "3.12.9"
  }
 },
 "nbformat": 4,
 "nbformat_minor": 2
}
