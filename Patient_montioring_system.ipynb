{
 "cells": [
  {
   "cell_type": "code",
   "execution_count": 14,
   "metadata": {},
   "outputs": [],
   "source": [
    "import torch\n",
    "import clip\n",
    "from torch.utils.data import Dataset, DataLoader\n",
    "from torchvision.transforms import Compose, Resize, CenterCrop, ToTensor, Normalize\n",
    "from PIL import Image\n",
    "import os\n",
    "import pandas as pd\n",
    "import json"
   ]
  },
  {
   "cell_type": "code",
   "execution_count": 15,
   "metadata": {},
   "outputs": [],
   "source": [
    "import cv2\n",
    "import torch\n",
    "import clip\n",
    "from PIL import Image\n",
    "\n",
    "device = \"cuda\" if torch.cuda.is_available() else \"cpu\"\n",
    "model, preprocess = clip.load(\"ViT-B/32\", device=device)\n"
   ]
  },
  {
   "cell_type": "code",
   "execution_count": 16,
   "metadata": {},
   "outputs": [
    {
     "name": "stdout",
     "output_type": "stream",
     "text": [
      "Current Working Directory: d:\\Projects\\Patient_montioring_system\n"
     ]
    }
   ],
   "source": [
    "import os\n",
    "print(\"Current Working Directory:\", os.getcwd())\n"
   ]
  },
  {
   "cell_type": "code",
   "execution_count": 48,
   "metadata": {},
   "outputs": [],
   "source": [
    "class CustomDataset(Dataset):\n",
    "    def __init__(self, image_dir, annotation_file, preprocess, limit=70):\n",
    "        \"\"\"\n",
    "        Args:\n",
    "            image_dir (str): Path to the directory containing images.\n",
    "            annotation_file (str): Path to the CSV file with image-caption mappings.\n",
    "            preprocess (callable): Preprocessing function for images.\n",
    "            limit (int): Maximum number of entries to include in the dataset.\n",
    "        \"\"\"\n",
    "        self.image_dir = image_dir\n",
    "        self.annotations = pd.read_csv(annotation_file).head(limit)  # Limit dataset to first 'limit' rows\n",
    "        self.preprocess = preprocess\n",
    "\n",
    "    def __len__(self):\n",
    "        return len(self.annotations)\n",
    "\n",
    "    def __getitem__(self, idx):\n",
    "        # Get the filename and label from the CSV file\n",
    "        img_info = self.annotations.iloc[idx]\n",
    "        img_filename = img_info['filename']\n",
    "        caption = img_info['label']\n",
    "\n",
    "        # Construct the full path to the image file\n",
    "        img_path = os.path.join(self.image_dir, img_filename)\n",
    "\n",
    "        # Check if the file exists (optional safety check)\n",
    "        if not os.path.exists(img_path):\n",
    "            raise FileNotFoundError(f\"Image file not found: {img_path}\")\n",
    "\n",
    "        # Load and preprocess the image\n",
    "        image = self.preprocess(Image.open(img_path).convert(\"RGB\"))\n",
    "\n",
    "        # Tokenize the caption using CLIP's tokenizer\n",
    "        text = clip.tokenize([caption])[0]\n",
    "\n",
    "        return image, text"
   ]
  },
  {
   "cell_type": "code",
   "execution_count": 49,
   "metadata": {},
   "outputs": [],
   "source": [
    "image_dir = \"d:/Projects/Patient_montioring_system/Train/train\"\n",
    "if not os.path.exists(image_dir):\n",
    "    print(f\"File not found: {image_dir}\")\n",
    "\n",
    "annotation_file = \"d:/Projects/Patient_montioring_system/Train/Training_set.csv\" "
   ]
  },
  {
   "cell_type": "code",
   "execution_count": 50,
   "metadata": {},
   "outputs": [],
   "source": [
    "dataset = CustomDataset(image_dir=image_dir, annotation_file=annotation_file, preprocess=preprocess)\n",
    "dataloader = DataLoader(dataset, batch_size=2, shuffle=True)"
   ]
  },
  {
   "cell_type": "code",
   "execution_count": 51,
   "metadata": {},
   "outputs": [
    {
     "name": "stdout",
     "output_type": "stream",
     "text": [
      "tensor([[[[ 1.6822,  1.6676,  1.6676,  ...,  1.7406,  1.7406,  1.7552],\n",
      "          [ 1.6822,  1.6676,  1.6676,  ...,  1.7406,  1.7406,  1.7552],\n",
      "          [ 1.6822,  1.6676,  1.6676,  ...,  1.7406,  1.7406,  1.7552],\n",
      "          ...,\n",
      "          [ 1.9303,  1.9303,  1.9303,  ...,  1.9303,  1.9303,  1.9303],\n",
      "          [ 1.9303,  1.9303,  1.9303,  ...,  1.9303,  1.9303,  1.9303],\n",
      "          [ 1.9303,  1.9303,  1.9303,  ...,  1.9303,  1.9303,  1.9303]],\n",
      "\n",
      "         [[ 1.8198,  1.8047,  1.8047,  ...,  1.8798,  1.8798,  1.8948],\n",
      "          [ 1.8198,  1.8047,  1.8047,  ...,  1.8798,  1.8798,  1.8948],\n",
      "          [ 1.8198,  1.8047,  1.8047,  ...,  1.8798,  1.8798,  1.8948],\n",
      "          ...,\n",
      "          [ 2.0749,  2.0749,  2.0749,  ...,  2.0749,  2.0749,  2.0749],\n",
      "          [ 2.0749,  2.0749,  2.0749,  ...,  2.0749,  2.0749,  2.0749],\n",
      "          [ 2.0749,  2.0749,  2.0749,  ...,  2.0749,  2.0749,  2.0749]],\n",
      "\n",
      "         [[ 1.9042,  1.8899,  1.8899,  ...,  1.9610,  1.9610,  1.9753],\n",
      "          [ 1.9042,  1.8899,  1.8899,  ...,  1.9610,  1.9610,  1.9753],\n",
      "          [ 1.9042,  1.8899,  1.8899,  ...,  1.9610,  1.9610,  1.9753],\n",
      "          ...,\n",
      "          [ 2.1459,  2.1459,  2.1459,  ...,  2.1459,  2.1459,  2.1459],\n",
      "          [ 2.1459,  2.1459,  2.1459,  ...,  2.1459,  2.1459,  2.1459],\n",
      "          [ 2.1459,  2.1459,  2.1459,  ...,  2.1459,  2.1459,  2.1459]]],\n",
      "\n",
      "\n",
      "        [[[-0.8142, -0.7996, -0.7266,  ..., -0.6974, -0.6974, -0.6828],\n",
      "          [-1.0623, -0.7558, -0.5806,  ..., -0.7412, -0.7266, -0.7120],\n",
      "          [-0.9748, -0.7850, -0.7704,  ..., -0.7850, -0.7704, -0.7412],\n",
      "          ...,\n",
      "          [ 0.2807,  0.3975,  0.3829,  ..., -0.0405,  0.0033, -0.0842],\n",
      "          [ 0.0909,  0.3975,  0.3975,  ..., -0.7412, -0.4784, -0.3470],\n",
      "          [-0.0988,  0.3099,  0.2807,  ..., -1.3689, -1.4711, -1.1353]],\n",
      "\n",
      "         [[-0.7916, -0.7916, -0.7616,  ..., -0.5365, -0.5365, -0.5515],\n",
      "          [-1.0467, -0.7766, -0.6415,  ..., -0.5815, -0.5815, -0.5815],\n",
      "          [-0.9867, -0.8066, -0.8366,  ..., -0.6115, -0.6265, -0.6115],\n",
      "          ...,\n",
      "          [-0.0412,  0.0638,  0.0488,  ...,  0.1839,  0.1989,  0.1089],\n",
      "          [-0.2363,  0.0488,  0.0638,  ..., -0.5365, -0.2813, -0.1613],\n",
      "          [-0.4314, -0.0412, -0.0562,  ..., -1.1818, -1.3019, -0.9867]],\n",
      "\n",
      "         [[-0.5559, -0.5844, -0.5986,  ..., -0.1435, -0.1578, -0.1862],\n",
      "          [-0.8119, -0.5844, -0.4706,  ..., -0.1862, -0.2004, -0.2146],\n",
      "          [-0.7408, -0.6128, -0.6697,  ..., -0.2289, -0.2573, -0.2715],\n",
      "          ...,\n",
      "          [ 0.1551,  0.2688,  0.2546,  ...,  0.6101,  0.6528,  0.5817],\n",
      "          [-0.0298,  0.2688,  0.2688,  ..., -0.0867,  0.1551,  0.3115],\n",
      "          [-0.2146,  0.1835,  0.1551,  ..., -0.6981, -0.7977, -0.4706]]]])\n",
      "tensor([[49406,  4597, 49407,     0,     0,     0,     0,     0,     0,     0,\n",
      "             0,     0,     0,     0,     0,     0,     0,     0,     0,     0,\n",
      "             0,     0,     0,     0,     0,     0,     0,     0,     0,     0,\n",
      "             0,     0,     0,     0,     0,     0,     0,     0,     0,     0,\n",
      "             0,     0,     0,     0,     0,     0,     0,     0,     0,     0,\n",
      "             0,     0,     0,     0,     0,     0,     0,     0,     0,     0,\n",
      "             0,     0,     0,     0,     0,     0,     0,     0,     0,     0,\n",
      "             0,     0,     0,     0,     0,     0,     0],\n",
      "        [49406,  1996,   318, 10464, 49407,     0,     0,     0,     0,     0,\n",
      "             0,     0,     0,     0,     0,     0,     0,     0,     0,     0,\n",
      "             0,     0,     0,     0,     0,     0,     0,     0,     0,     0,\n",
      "             0,     0,     0,     0,     0,     0,     0,     0,     0,     0,\n",
      "             0,     0,     0,     0,     0,     0,     0,     0,     0,     0,\n",
      "             0,     0,     0,     0,     0,     0,     0,     0,     0,     0,\n",
      "             0,     0,     0,     0,     0,     0,     0,     0,     0,     0,\n",
      "             0,     0,     0,     0,     0,     0,     0]], dtype=torch.int32)\n",
      "Image batch shape: torch.Size([2, 3, 224, 224])\n",
      "Text batch shape: torch.Size([2, 77])\n"
     ]
    }
   ],
   "source": [
    "for images, texts in dataloader:\n",
    "    print(images)\n",
    "    print(texts)\n",
    "    print(\"Image batch shape:\", images.shape)\n",
    "    print(\"Text batch shape:\", texts.shape)\n",
    "    break  # Just to show one batch"
   ]
  },
  {
   "cell_type": "code",
   "execution_count": 52,
   "metadata": {},
   "outputs": [],
   "source": [
    "optimizer = torch.optim.Adam(model.parameters(), lr=1e-5)\n",
    "loss_fn = torch.nn.CrossEntropyLoss()"
   ]
  },
  {
   "cell_type": "code",
   "execution_count": 53,
   "metadata": {},
   "outputs": [
    {
     "name": "stdout",
     "output_type": "stream",
     "text": [
      "Epoch [1/10], Loss: 0.6164\n",
      "Epoch [2/10], Loss: 0.2355\n",
      "Epoch [3/10], Loss: 0.0786\n",
      "Epoch [4/10], Loss: 0.0778\n",
      "Epoch [5/10], Loss: 0.0496\n",
      "Epoch [6/10], Loss: 0.0712\n",
      "Epoch [7/10], Loss: 0.1858\n",
      "Epoch [8/10], Loss: 0.2821\n",
      "Epoch [9/10], Loss: 0.1037\n",
      "Epoch [10/10], Loss: 0.2618\n"
     ]
    }
   ],
   "source": [
    "num_epochs = 10\n",
    "for epoch in range(num_epochs):\n",
    "    model.train()\n",
    "    total_loss = 0\n",
    "\n",
    "    for images, texts in dataloader:\n",
    "        images, texts = images.to(device), texts.to(device)\n",
    "\n",
    "        # Forward pass\n",
    "        logits_per_image, logits_per_text = model(images, texts)\n",
    "        ground_truth = torch.arange(len(images), dtype=torch.long, device=device)\n",
    "        \n",
    "        # Compute loss\n",
    "        loss = (loss_fn(logits_per_image, ground_truth) + loss_fn(logits_per_text, ground_truth)) / 2\n",
    "\n",
    "        # Backward pass and optimization\n",
    "        optimizer.zero_grad()\n",
    "        loss.backward()\n",
    "        optimizer.step()\n",
    "\n",
    "        total_loss += loss.item()\n",
    "\n",
    "    print(f\"Epoch [{epoch+1}/{num_epochs}], Loss: {total_loss/len(dataloader):.4f}\")\n",
    "\n",
    "# Save the fine-tuned model\n",
    "torch.save(model.state_dict(), \"fine_tuned_clip_vit_b32.pth\")"
   ]
  },
  {
   "cell_type": "code",
   "execution_count": 56,
   "metadata": {},
   "outputs": [],
   "source": [
    "model.load_state_dict(torch.load(\"fine_tuned_clip_vit_b32.pth\"))\n",
    "model.eval()\n",
    "\n",
    "text_prompts = [\"using_laptop\", \"hugging\",\"drinking\",\"texting\"]\n",
    "text_tokens = clip.tokenize(text_prompts).to(device)\n",
    "\n",
    "# Start webcam capture\n",
    "cap = cv2.VideoCapture(0)\n",
    "\n",
    "while True:\n",
    "    ret, frame = cap.read()\n",
    "    if not ret:\n",
    "        break\n",
    "\n",
    "    # Preprocess the frame for CLIP model input\n",
    "    pil_image = Image.fromarray(cv2.cvtColor(frame, cv2.COLOR_BGR2RGB))\n",
    "    image_input = preprocess(pil_image).unsqueeze(0).to(device)\n",
    "\n",
    "    with torch.no_grad():\n",
    "        # Encode image and text features\n",
    "        image_features = model.encode_image(image_input)\n",
    "        text_features = model.encode_text(text_tokens)\n",
    "\n",
    "        # Compute similarity scores and probabilities\n",
    "        logits_per_image = (image_features @ text_features.T).softmax(dim=-1)\n",
    "    \n",
    "    probs = logits_per_image.cpu().numpy()[0]\n",
    "\n",
    "    # Display predictions on the video feed\n",
    "    for i, prompt in enumerate(text_prompts):\n",
    "        cv2.putText(frame, f\"{prompt}: {probs[i]:.2f}\", (10, 30 + i * 30), \n",
    "                    cv2.FONT_HERSHEY_SIMPLEX, 1, (255, 255, 255), 2)\n",
    "    \n",
    "    cv2.imshow(\"CLIP Webcam\", frame)\n",
    "    \n",
    "    if cv2.waitKey(1) & 0xFF == ord('q'):\n",
    "        break\n",
    "\n",
    "cap.release()\n",
    "cv2.destroyAllWindows()\n"
   ]
  },
  {
   "cell_type": "code",
   "execution_count": null,
   "metadata": {},
   "outputs": [],
   "source": []
  }
 ],
 "metadata": {
  "kernelspec": {
   "display_name": "tensorflow",
   "language": "python",
   "name": "python3"
  },
  "language_info": {
   "codemirror_mode": {
    "name": "ipython",
    "version": 3
   },
   "file_extension": ".py",
   "mimetype": "text/x-python",
   "name": "python",
   "nbconvert_exporter": "python",
   "pygments_lexer": "ipython3",
   "version": "3.12.9"
  }
 },
 "nbformat": 4,
 "nbformat_minor": 2
}
